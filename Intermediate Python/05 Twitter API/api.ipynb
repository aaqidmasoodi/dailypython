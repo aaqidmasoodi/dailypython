{
 "cells": [
  {
   "cell_type": "code",
   "execution_count": 1,
   "metadata": {},
   "outputs": [],
   "source": [
    "import tweepy\n",
    "import webbrowser\n",
    "from keys import *"
   ]
  },
  {
   "cell_type": "code",
   "execution_count": 2,
   "metadata": {},
   "outputs": [
    {
     "name": "stdout",
     "output_type": "stream",
     "text": [
      "<tweepy.api.API object at 0x7f8f644a1c10>\n"
     ]
    }
   ],
   "source": [
    "callback_uri = 'oob'\n",
    "auth = tweepy.OAuthHandler(API_KEY, API_SECRET, callback_uri)\n",
    "redirect_url = auth.get_authorization_url()\n",
    "webbrowser.open(redirect_url)\n",
    "user_pin = input('Enter Pin: ')\n",
    "access = auth.get_access_token(user_pin)\n",
    "api = tweepy.API(auth)\n",
    "print(api)"
   ]
  },
  {
   "cell_type": "code",
   "execution_count": 17,
   "metadata": {},
   "outputs": [],
   "source": [
    "dailypython_people = [\n",
    "    'tawqeer00',\n",
    "    'x_willofd_x',\n",
    "    'MateenMoriarity',\n",
    "    'kaisarsofi_kXaR',\n",
    "    'Sidratkhan28',\n",
    "    'dayim_shah',\n",
    "]"
   ]
  },
  {
   "cell_type": "code",
   "execution_count": null,
   "metadata": {},
   "outputs": [],
   "source": [
    "# REST\n",
    "\n",
    "# CREATE -->> update_status() -->> POST\n",
    "# READ -->> GET\n",
    "# UPDATE -->> PUT ---->> UPDATE\n",
    "# DELETE -->> DELETE\n",
    "\n",
    "# CRUD -->> these are the basic operation you can perform on a DB"
   ]
  },
  {
   "cell_type": "markdown",
   "metadata": {},
   "source": [
    "# twitter timeline (GET)"
   ]
  },
  {
   "cell_type": "code",
   "execution_count": null,
   "metadata": {},
   "outputs": [],
   "source": [
    "# mentions_timelines() # -->> @user \n",
    "# home_timeline() # -->> \n",
    "# timeline() # -->> mytimeline"
   ]
  },
  {
   "cell_type": "code",
   "execution_count": 21,
   "metadata": {},
   "outputs": [],
   "source": [
    "mentions = api.mentions_timeline(count=40) # GET # State was no like # CURSORS"
   ]
  },
  {
   "cell_type": "code",
   "execution_count": null,
   "metadata": {},
   "outputs": [],
   "source": [
    "print(dir(mentions[0]))"
   ]
  },
  {
   "cell_type": "code",
   "execution_count": 27,
   "metadata": {},
   "outputs": [
    {
     "name": "stdout",
     "output_type": "stream",
     "text": [
      "1463512891353563138\n"
     ]
    }
   ],
   "source": [
    "last_mention_id = mentions[0].id\n",
    "print(last_mention_id)"
   ]
  },
  {
   "cell_type": "code",
   "execution_count": 31,
   "metadata": {},
   "outputs": [],
   "source": [
    "mentions = api.mentions_timeline(since_id=last_mention_id) # filtering"
   ]
  },
  {
   "cell_type": "code",
   "execution_count": null,
   "metadata": {},
   "outputs": [],
   "source": [
    "## Code First Introduction"
   ]
  },
  {
   "cell_type": "code",
   "execution_count": null,
   "metadata": {},
   "outputs": [],
   "source": [
    "# WORKER\n",
    "\n",
    "import time\n",
    "while True:\n",
    "    print('Sending Request....')\n",
    "    mentions = api.mentions_timeline(since_id=last_mention_id)\n",
    "\n",
    "    print('Request Sent....')\n",
    "    print('Scanning tweets....')\n",
    "    for tweet in mentions:\n",
    "        if tweet.user.screen_name in dailypython_people:\n",
    "            print(f'Found a tweet with #Hello World....')\n",
    "            print(f'Replying back....{tweet.user.screen_name}')\n",
    "            api.update_status(f'@{tweet.user.screen_name} Hey Kaisar!!', '''ID OF TWEET TO WHICH YOU WANT TO REPLY TO''')\n",
    "        print('Updating last_mention_id....')\n",
    "        last_mention_id = tweet.id # i want to add this!!! to to last seen\n",
    "    # this must be outside the loop\n",
    "    # Make abssoutely sure this is outside the loop\n",
    "    \n",
    "    # RATE LIMITING\n",
    "\n",
    "    print('going to sleep for 30 seconds...')\n",
    "    time.sleep(60)"
   ]
  },
  {
   "cell_type": "code",
   "execution_count": null,
   "metadata": {},
   "outputs": [],
   "source": [
    "# you can try automate daily tweets\n",
    "# you can automate replying to tweets"
   ]
  },
  {
   "cell_type": "code",
   "execution_count": 3,
   "metadata": {},
   "outputs": [],
   "source": [
    "mentions = api.mentions_timeline()"
   ]
  },
  {
   "cell_type": "code",
   "execution_count": 5,
   "metadata": {},
   "outputs": [
    {
     "name": "stdout",
     "output_type": "stream",
     "text": [
      "1463892252837568516\n"
     ]
    }
   ],
   "source": [
    "print(mentions[0].id)"
   ]
  },
  {
   "cell_type": "code",
   "execution_count": 11,
   "metadata": {},
   "outputs": [],
   "source": [
    "new_reply = api.update_status(f'@{mentions[0].user.screen_name} Replying back to a particular tweet using python', in_reply_to_status_id=1463892252837568516)"
   ]
  },
  {
   "cell_type": "code",
   "execution_count": null,
   "metadata": {},
   "outputs": [],
   "source": [
    "new_reply.destroy()"
   ]
  },
  {
   "cell_type": "code",
   "execution_count": null,
   "metadata": {},
   "outputs": [],
   "source": [
    "### lock on to another"
   ]
  },
  {
   "cell_type": "code",
   "execution_count": 17,
   "metadata": {},
   "outputs": [],
   "source": [
    "target_user = api.get_user(screen_name='kaisarsofi_kXaR')"
   ]
  },
  {
   "cell_type": "markdown",
   "metadata": {},
   "source": [
    "## follow everyone that i am following"
   ]
  },
  {
   "cell_type": "code",
   "execution_count": 18,
   "metadata": {},
   "outputs": [
    {
     "name": "stdout",
     "output_type": "stream",
     "text": [
      "kaisarsofi_kXaR\n"
     ]
    }
   ],
   "source": [
    "print(target_user.screen_name)"
   ]
  },
  {
   "cell_type": "code",
   "execution_count": 20,
   "metadata": {},
   "outputs": [],
   "source": [
    "user_timeline = target_user.timeline()"
   ]
  },
  {
   "cell_type": "code",
   "execution_count": 21,
   "metadata": {},
   "outputs": [],
   "source": [
    "latest_tweet = user_timeline[0]"
   ]
  },
  {
   "cell_type": "code",
   "execution_count": 23,
   "metadata": {},
   "outputs": [
    {
     "name": "stdout",
     "output_type": "stream",
     "text": [
      "kaisarsofi_kXaR\n",
      "kaisarsofi_kXaR\n"
     ]
    }
   ],
   "source": [
    "print(target_user.screen_name)\n",
    "print(latest_tweet.user.screen_name)"
   ]
  },
  {
   "cell_type": "code",
   "execution_count": null,
   "metadata": {},
   "outputs": [],
   "source": [
    "api.update_status(f'@{latest_tweet.user.screen_name} Wow Cool!', in_reply_to_status_id=latest_tweet.id)"
   ]
  },
  {
   "cell_type": "code",
   "execution_count": 28,
   "metadata": {},
   "outputs": [
    {
     "name": "stdout",
     "output_type": "stream",
     "text": [
      "['__class__', '__delattr__', '__dict__', '__dir__', '__doc__', '__eq__', '__format__', '__ge__', '__getattribute__', '__getstate__', '__gt__', '__hash__', '__init__', '__init_subclass__', '__le__', '__lt__', '__module__', '__ne__', '__new__', '__reduce__', '__reduce_ex__', '__repr__', '__setattr__', '__sizeof__', '__slots__', '__str__', '__subclasshook__', '__weakref__', '_api', '_json', 'author', 'contributors', 'coordinates', 'created_at', 'destroy', 'entities', 'favorite', 'favorite_count', 'favorited', 'geo', 'id', 'id_str', 'in_reply_to_screen_name', 'in_reply_to_status_id', 'in_reply_to_status_id_str', 'in_reply_to_user_id', 'in_reply_to_user_id_str', 'is_quote_status', 'lang', 'parse', 'parse_list', 'place', 'retweet', 'retweet_count', 'retweeted', 'retweets', 'source', 'source_url', 'text', 'truncated', 'user']\n"
     ]
    }
   ],
   "source": [
    "print(dir(latest_tweet))"
   ]
  },
  {
   "cell_type": "code",
   "execution_count": null,
   "metadata": {},
   "outputs": [],
   "source": [
    "print(dir(api))"
   ]
  },
  {
   "cell_type": "code",
   "execution_count": null,
   "metadata": {},
   "outputs": [],
   "source": [
    "# create_favorite\n",
    "# destroy_favourite\n",
    "# "
   ]
  },
  {
   "cell_type": "code",
   "execution_count": null,
   "metadata": {},
   "outputs": [],
   "source": [
    "api.destroy_favorite(latest_tweet.id)"
   ]
  },
  {
   "cell_type": "code",
   "execution_count": null,
   "metadata": {},
   "outputs": [],
   "source": [
    "api.create_friendship(screen_name='tawqeer00')"
   ]
  },
  {
   "cell_type": "code",
   "execution_count": null,
   "metadata": {},
   "outputs": [],
   "source": [
    "api.destroy_friendship(screen_name='tawqeer00')"
   ]
  },
  {
   "cell_type": "code",
   "execution_count": null,
   "metadata": {},
   "outputs": [],
   "source": [
    "api.retweet('''ID''') # -->> PUT / POST "
   ]
  },
  {
   "cell_type": "code",
   "execution_count": null,
   "metadata": {},
   "outputs": [],
   "source": [
    "# You like all the @mentions and also follow the user who has at mentioned you if not already folllowing"
   ]
  },
  {
   "cell_type": "code",
   "execution_count": 28,
   "metadata": {},
   "outputs": [],
   "source": [
    "user = api.get_user(screen_name='tawqeer00')"
   ]
  },
  {
   "cell_type": "code",
   "execution_count": null,
   "metadata": {},
   "outputs": [],
   "source": [
    "# API LEVEL -  ROOT\n",
    "# OBJECT - LEVEL"
   ]
  },
  {
   "cell_type": "code",
   "execution_count": null,
   "metadata": {},
   "outputs": [],
   "source": [
    "print(dir(api))"
   ]
  },
  {
   "cell_type": "code",
   "execution_count": null,
   "metadata": {},
   "outputs": [],
   "source": [
    "# my mentions timelines"
   ]
  },
  {
   "cell_type": "code",
   "execution_count": 29,
   "metadata": {},
   "outputs": [],
   "source": [
    "mentions = api.mentions_timeline()"
   ]
  },
  {
   "cell_type": "code",
   "execution_count": 31,
   "metadata": {},
   "outputs": [
    {
     "name": "stdout",
     "output_type": "stream",
     "text": [
      "['__class__', '__delattr__', '__dict__', '__dir__', '__doc__', '__eq__', '__format__', '__ge__', '__getattribute__', '__getstate__', '__gt__', '__hash__', '__init__', '__init_subclass__', '__le__', '__lt__', '__module__', '__ne__', '__new__', '__reduce__', '__reduce_ex__', '__repr__', '__setattr__', '__sizeof__', '__slots__', '__str__', '__subclasshook__', '__weakref__', '_api', '_json', 'author', 'contributors', 'coordinates', 'created_at', 'destroy', 'entities', 'favorite', 'favorite_count', 'favorited', 'geo', 'id', 'id_str', 'in_reply_to_screen_name', 'in_reply_to_status_id', 'in_reply_to_status_id_str', 'in_reply_to_user_id', 'in_reply_to_user_id_str', 'is_quote_status', 'lang', 'parse', 'parse_list', 'place', 'retweet', 'retweet_count', 'retweeted', 'retweets', 'source', 'source_url', 'text', 'truncated', 'user']\n"
     ]
    }
   ],
   "source": [
    "print(dir(mentions[0]))"
   ]
  },
  {
   "cell_type": "code",
   "execution_count": 32,
   "metadata": {},
   "outputs": [],
   "source": [
    "# LEVELS of ACCESS\n",
    "favorited_tweet = mentions[0].favorite()"
   ]
  },
  {
   "cell_type": "code",
   "execution_count": null,
   "metadata": {},
   "outputs": [],
   "source": [
    "api.create_favorite(mentions[0].id)"
   ]
  },
  {
   "cell_type": "code",
   "execution_count": 34,
   "metadata": {},
   "outputs": [],
   "source": [
    "retweeted_tweet = mentions[0].retweet() # calling a method of the object"
   ]
  },
  {
   "cell_type": "code",
   "execution_count": null,
   "metadata": {},
   "outputs": [],
   "source": [
    "# api.retweet(mentions[0].id) # -->> retweet\n",
    "api.unretweet(mentions[0].id) # -->> retweet"
   ]
  },
  {
   "cell_type": "code",
   "execution_count": 37,
   "metadata": {},
   "outputs": [],
   "source": [
    "new_status = api.update_status('Hello World to Test API')"
   ]
  },
  {
   "cell_type": "code",
   "execution_count": 38,
   "metadata": {},
   "outputs": [
    {
     "name": "stdout",
     "output_type": "stream",
     "text": [
      "['__class__', '__delattr__', '__dict__', '__dir__', '__doc__', '__eq__', '__format__', '__ge__', '__getattribute__', '__getstate__', '__gt__', '__hash__', '__init__', '__init_subclass__', '__le__', '__lt__', '__module__', '__ne__', '__new__', '__reduce__', '__reduce_ex__', '__repr__', '__setattr__', '__sizeof__', '__slots__', '__str__', '__subclasshook__', '__weakref__', '_api', '_json', 'author', 'contributors', 'coordinates', 'created_at', 'destroy', 'entities', 'favorite', 'favorite_count', 'favorited', 'geo', 'id', 'id_str', 'in_reply_to_screen_name', 'in_reply_to_status_id', 'in_reply_to_status_id_str', 'in_reply_to_user_id', 'in_reply_to_user_id_str', 'is_quote_status', 'lang', 'parse', 'parse_list', 'place', 'retweet', 'retweet_count', 'retweeted', 'retweets', 'source', 'source_url', 'text', 'truncated', 'user']\n"
     ]
    }
   ],
   "source": [
    "print(dir(new_status))"
   ]
  },
  {
   "cell_type": "code",
   "execution_count": null,
   "metadata": {},
   "outputs": [],
   "source": [
    "new_status.destroy()"
   ]
  },
  {
   "cell_type": "code",
   "execution_count": 36,
   "metadata": {},
   "outputs": [
    {
     "name": "stdout",
     "output_type": "stream",
     "text": [
      "['__class__', '__delattr__', '__dict__', '__dir__', '__doc__', '__eq__', '__format__', '__ge__', '__getattribute__', '__getstate__', '__gt__', '__hash__', '__init__', '__init_subclass__', '__le__', '__lt__', '__module__', '__ne__', '__new__', '__reduce__', '__reduce_ex__', '__repr__', '__setattr__', '__sizeof__', '__slots__', '__str__', '__subclasshook__', '__weakref__', '_api', '_json', 'author', 'contributors', 'coordinates', 'created_at', 'destroy', 'entities', 'favorite', 'favorite_count', 'favorited', 'geo', 'id', 'id_str', 'in_reply_to_screen_name', 'in_reply_to_status_id', 'in_reply_to_status_id_str', 'in_reply_to_user_id', 'in_reply_to_user_id_str', 'is_quote_status', 'lang', 'parse', 'parse_list', 'place', 'retweet', 'retweet_count', 'retweeted', 'retweets', 'source', 'source_url', 'text', 'truncated', 'user']\n"
     ]
    }
   ],
   "source": [
    "print(dir(mentions[0]))"
   ]
  },
  {
   "cell_type": "code",
   "execution_count": null,
   "metadata": {},
   "outputs": [],
   "source": [
    "mentions[0].destroy()"
   ]
  },
  {
   "cell_type": "code",
   "execution_count": null,
   "metadata": {},
   "outputs": [],
   "source": [
    "# api.search_tweets(q='a string to query string')"
   ]
  },
  {
   "cell_type": "code",
   "execution_count": 53,
   "metadata": {},
   "outputs": [],
   "source": [
    "# you will find it in the docs\n",
    "results = api.search_tweets(q='#Python', count=50, lang='en')\n",
    "\n",
    "# API"
   ]
  },
  {
   "cell_type": "code",
   "execution_count": 51,
   "metadata": {},
   "outputs": [
    {
     "name": "stdout",
     "output_type": "stream",
     "text": [
      "40\n"
     ]
    }
   ],
   "source": [
    "print(len(results))"
   ]
  },
  {
   "cell_type": "code",
   "execution_count": 54,
   "metadata": {},
   "outputs": [
    {
     "name": "stdout",
     "output_type": "stream",
     "text": [
      "RT @ingliguori: #Infographic: AI LifeCycle\n",
      "Via @ingliguori \n",
      "#BigData #Analytics #DataScience #AI #IoT #IIoT #PyTorch #Python #RStats #Tenso…\n",
      "RT @Khulood_Almani: Top🔟#Edge #Computing Use cases \n",
      "\n",
      "👉https://t.co/8ER1wey5iO\n",
      "\n",
      "#technology #AI #DataScience #java #coding #bot #COVID19 #Di…\n",
      "RT @glitchbotio: \"Leaders think and talk about solutions. Followers think and talk about the problems.\"- Brian Tracy #softwareengineer #jav…\n",
      "RT @MrDataScience: #Python data structure cheat sheet\n",
      "#100DaysOfCode #AI #DataScience #WomenInSTEM #Cloud #IoT #DigitalMarketing #fintech #…\n",
      "RT @joshinishad83: October 2021: Top 10 #Technology and #Innovation Tweets\n",
      "\n",
      "https://t.co/i4q5QO9ceY\n",
      "\n",
      "#AI #ML #DL #Flutter #Python #R #Women…\n",
      "RT @JobPreference: NEED a JOB?\n",
      "Sign up now https://t.co/rMErDK45VP\n",
      "FREE. NO MIDDLEMEN\n",
      "#Job #WomenWhoCode #Programming #Coding #gamers #indi…\n",
      "RT @machine_ml: RT @fluttbot: RT @Xsara_montana: Shrooms #developer #css #java #software\n",
      "#javascript\n",
      "#Python\n",
      "#DataScience\n",
      "#DEVCommunity\n",
      "#10…\n",
      "RT @CatherineAdenle: Here are the Top Data Science Career Stories that inspired others in 2021. \n",
      "\n",
      "#datascience #data #datascientist #progra…\n",
      "RT @Udemy_Coupons1: Simple and Strong Forex Swing Trading Strategy in the world https://t.co/XS95q7BfLu\n",
      "\n",
      "#MachineLearning. #BigData #Analyt…\n",
      "RT @YuHelenYu: Supervised vs. Unsupervised Machine Learning\n",
      "#100DaysOfCode #DataScience #DataAnalytics #bigdata #AI #MachineLearning #Pytho…\n",
      "RT @machine_ml: RT @fluttbot: RT @Xsara_montana: Shrooms #developer #css #java #software\n",
      "#javascript\n",
      "#Python\n",
      "#DataScience\n",
      "#DEVCommunity\n",
      "#10…\n",
      "RT @machine_ml: RT @fluttbot: RT @Xsara_montana: Shrooms #developer #css #java #software\n",
      "#javascript\n",
      "#Python\n",
      "#DataScience\n",
      "#DEVCommunity\n",
      "#10…\n",
      "RT @CatherineAdenle: Here are the Top Data Science Career Stories that inspired others in 2021. \n",
      "\n",
      "#datascience #data #datascientist #progra…\n",
      "RT @driscollis: #Python Pro Tip: Imports should be alphabetical and only import a single library or package per line\n",
      "\n",
      "This follows PEP8, bu…\n",
      "RT @glitchbotio: \"Leaders think and talk about solutions. Followers think and talk about the problems.\"- Brian Tracy #softwareengineer #jav…\n",
      "RT @peterhuntcrypto: Surreal and vibrant AI abstracts from the Classics and Contemporary Collection\n",
      "\n",
      "26 items, 84 owners\n",
      ".0028 $ETH floor p…\n",
      "RT @joshinishad83: October 2021: Top 10 #Technology and #Innovation Tweets\n",
      "\n",
      "https://t.co/i4q5QO9ceY\n",
      "\n",
      "#AI #ML #DL #Flutter #Python #R #Women…\n",
      "RT @joshinishad83: October 2021: Top 10 #Technology and #Innovation Tweets\n",
      "\n",
      "https://t.co/i4q5QO9ceY\n",
      "\n",
      "#AI #ML #DL #Flutter #Python #R #Women…\n",
      "RT @peterhuntcrypto: Surreal and vibrant AI abstracts from the Classics and Contemporary Collection\n",
      "\n",
      "26 items, 84 owners\n",
      ".0028 $ETH floor p…\n",
      "RT @Khulood_Almani: Top🔟#Edge #Computing Use cases \n",
      "\n",
      "👉https://t.co/8ER1wey5iO\n",
      "\n",
      "#technology #AI #DataScience #java #coding #bot #COVID19 #Di…\n",
      "RT @KirkDBorne: “Dancing with #Python — Learn to code with Python and #QuantumComputing” at https://t.co/gABU9dLJS5 via @PacktPub @PacktAut…\n",
      "RT @Paula_Piccard: Will Artificial Intelligence Help or Hurt Cyber Defense?\n",
      "\n",
      "#MachineLearning #AI #Python #DataScience #BigData\n",
      "#DeepLearni…\n",
      "RT @stratorob: What Is CPaaS? Communications Platform As A Service Explained https://t.co/bxHxMROZ9x \n",
      "\n",
      "@jblefevre60 @SpirosMargaris @mvollm…\n",
      "RT @peterhuntcrypto: Surreal and vibrant AI abstracts from the Classics and Contemporary Collection\n",
      "\n",
      "26 items, 84 owners\n",
      ".0028 $ETH floor p…\n",
      "RT @pythonbot_: Python (2nd Edition): Learn Python in One Day and Learn It Well. Python for Beginners with Hands-on Project. (Learn Coding…\n",
      "RT @glitchbotio: \"Leaders think and talk about solutions. Followers think and talk about the problems.\"- Brian Tracy #softwareengineer #jav…\n",
      "RT @YuHelenYu: Supervised vs. Unsupervised Machine Learning\n",
      "#100DaysOfCode #DataScience #DataAnalytics #bigdata #AI #MachineLearning #Pytho…\n",
      "\"Leaders think and talk about solutions. Followers think and talk about the problems.\"- Brian Tracy… https://t.co/dC3rKWIOtb\n",
      "RT @peterhuntcrypto: Surreal and vibrant AI abstracts from the Classics and Contemporary Collection\n",
      "\n",
      "26 items, 84 owners\n",
      ".0028 $ETH floor p…\n",
      "RT @JobPreference: NEED a JOB?\n",
      "Sign up now https://t.co/rMErDK45VP\n",
      "FREE. NO MIDDLEMEN\n",
      "#Job #WomenWhoCode #Programming #Coding #gamers #indi…\n",
      "NEED a JOB?\n",
      "Sign up now https://t.co/rMErDK45VP\n",
      "FREE. NO MIDDLEMEN\n",
      "#Job #WomenWhoCode #Programming #Coding #gamers… https://t.co/OZsOrtmMmg\n",
      "RT @peterhuntcrypto: Surreal and vibrant AI abstracts from the Classics and Contemporary Collection\n",
      "\n",
      "26 items, 84 owners\n",
      ".0028 $ETH floor p…\n"
     ]
    }
   ],
   "source": [
    "for tweet in results:\n",
    "    print(tweet.text)"
   ]
  },
  {
   "cell_type": "code",
   "execution_count": null,
   "metadata": {},
   "outputs": [],
   "source": [
    "# Sentiment Analysis\n",
    "# you can write sentiment analysis\n",
    "# Machine Learning."
   ]
  },
  {
   "cell_type": "code",
   "execution_count": 55,
   "metadata": {},
   "outputs": [],
   "source": [
    "# Media Upload\n",
    "\n",
    "img = api.media_upload('cat.jpg')"
   ]
  },
  {
   "cell_type": "code",
   "execution_count": 60,
   "metadata": {},
   "outputs": [
    {
     "name": "stdout",
     "output_type": "stream",
     "text": [
      "Media(_api=<tweepy.api.API object at 0x7f8f644a1c10>, media_id=1464961557327085576, media_id_string='1464961557327085576', size=29106, expires_after_secs=86400, image={'image_type': 'image/jpeg', 'w': 639, 'h': 404})\n"
     ]
    }
   ],
   "source": [
    "print(img)"
   ]
  },
  {
   "cell_type": "code",
   "execution_count": 61,
   "metadata": {},
   "outputs": [],
   "source": [
    "new_status = api.update_status('Yo! check out my new cat.', media_ids=[img.media_id_string])"
   ]
  },
  {
   "cell_type": "code",
   "execution_count": 66,
   "metadata": {},
   "outputs": [],
   "source": [
    "user = api.get_user(screen_name='aaqidmasoodi') # PK"
   ]
  },
  {
   "cell_type": "code",
   "execution_count": 64,
   "metadata": {},
   "outputs": [],
   "source": [
    "user_timeline = user.timeline()"
   ]
  },
  {
   "cell_type": "code",
   "execution_count": 67,
   "metadata": {},
   "outputs": [
    {
     "data": {
      "text/plain": [
       "'Yo! check out my new cat. https://t.co/CXhLfB5q06'"
      ]
     },
     "execution_count": 67,
     "metadata": {},
     "output_type": "execute_result"
    }
   ],
   "source": [
    "user_timeline[0].text"
   ]
  },
  {
   "cell_type": "code",
   "execution_count": 68,
   "metadata": {},
   "outputs": [],
   "source": [
    "# TheCodeSquad\n",
    "# come up with an idea for the club bot\n",
    "# things like - when an event is scheduled\n",
    "# what is code squad\n",
    "# how to join?\n",
    "# auto reply \n",
    "# ..\n",
    "# ."
   ]
  },
  {
   "cell_type": "code",
   "execution_count": null,
   "metadata": {},
   "outputs": [],
   "source": []
  }
 ],
 "metadata": {
  "interpreter": {
   "hash": "144c5507dfd59594eab08a346759fe7c4c32e3198844b3633655b2777028ced9"
  },
  "kernelspec": {
   "display_name": "Python 3.9.7 64-bit ('venv': venv)",
   "language": "python",
   "name": "python3"
  },
  "language_info": {
   "codemirror_mode": {
    "name": "ipython",
    "version": 3
   },
   "file_extension": ".py",
   "mimetype": "text/x-python",
   "name": "python",
   "nbconvert_exporter": "python",
   "pygments_lexer": "ipython3",
   "version": "3.9.7"
  },
  "orig_nbformat": 4
 },
 "nbformat": 4,
 "nbformat_minor": 2
}
