{
 "cells": [
  {
   "cell_type": "code",
   "execution_count": 2,
   "metadata": {},
   "outputs": [],
   "source": [
    "import tweepy\n",
    "import webbrowser\n",
    "from keys import *"
   ]
  },
  {
   "cell_type": "code",
   "execution_count": 28,
   "metadata": {},
   "outputs": [
    {
     "name": "stdout",
     "output_type": "stream",
     "text": [
      "<tweepy.api.API object at 0x7fb37b9e1700>\n"
     ]
    }
   ],
   "source": [
    "callback_uri = 'oob'\n",
    "auth = tweepy.OAuthHandler(API_KEY, API_SECRET, callback_uri)\n",
    "redirect_url = auth.get_authorization_url()\n",
    "webbrowser.open(redirect_url)\n",
    "user_pin = input('Enter Pin: ')\n",
    "access = auth.get_access_token(user_pin)\n",
    "api = tweepy.API(auth)\n",
    "print(api)"
   ]
  },
  {
   "cell_type": "code",
   "execution_count": 54,
   "metadata": {},
   "outputs": [],
   "source": [
    "dailypython_people = [\n",
    "    'tawqeer00',\n",
    "    'x_willofd_x',\n",
    "    'MateenMoriarity',\n",
    "    'kaisarsofi_kXaR',\n",
    "    'Sidratkhan28',\n",
    "    'dayim_shah',\n",
    "]"
   ]
  },
  {
   "cell_type": "code",
   "execution_count": null,
   "metadata": {},
   "outputs": [],
   "source": [
    "# REST\n",
    "\n",
    "# CREATE -->> update_status() -->> POST\n",
    "# READ -->> GET\n",
    "# UPDATE -->> PUT\n",
    "# DELETE -->> DELETE\n",
    "\n",
    "# CRUD -->> these are the basic operation you can perform on a DB"
   ]
  },
  {
   "cell_type": "markdown",
   "metadata": {},
   "source": [
    "# twitter timeline (GET)"
   ]
  },
  {
   "cell_type": "code",
   "execution_count": null,
   "metadata": {},
   "outputs": [],
   "source": [
    "mentions_timelines() # -->> @user \n",
    "home_timeline() # -->> \n",
    "user_timeline() # -->> mytimeline"
   ]
  },
  {
   "cell_type": "code",
   "execution_count": 41,
   "metadata": {},
   "outputs": [],
   "source": [
    "mentions = api.mentions_timeline() # a request send to twitter api"
   ]
  },
  {
   "cell_type": "code",
   "execution_count": 61,
   "metadata": {},
   "outputs": [
    {
     "name": "stdout",
     "output_type": "stream",
     "text": [
      "2021-11-24 14:20:38+00:00\n"
     ]
    }
   ],
   "source": [
    "print(mentions[0].created_at)"
   ]
  },
  {
   "cell_type": "code",
   "execution_count": 60,
   "metadata": {},
   "outputs": [
    {
     "name": "stdout",
     "output_type": "stream",
     "text": [
      "['__class__', '__delattr__', '__dict__', '__dir__', '__doc__', '__eq__', '__format__', '__ge__', '__getattribute__', '__getstate__', '__gt__', '__hash__', '__init__', '__init_subclass__', '__le__', '__lt__', '__module__', '__ne__', '__new__', '__reduce__', '__reduce_ex__', '__repr__', '__setattr__', '__sizeof__', '__slots__', '__str__', '__subclasshook__', '__weakref__', '_api', '_json', 'author', 'contributors', 'coordinates', 'created_at', 'destroy', 'entities', 'favorite', 'favorite_count', 'favorited', 'geo', 'id', 'id_str', 'in_reply_to_screen_name', 'in_reply_to_status_id', 'in_reply_to_status_id_str', 'in_reply_to_user_id', 'in_reply_to_user_id_str', 'is_quote_status', 'lang', 'parse', 'parse_list', 'place', 'retweet', 'retweet_count', 'retweeted', 'retweets', 'source', 'source_url', 'text', 'truncated', 'user']\n"
     ]
    }
   ],
   "source": [
    "print(dir(mentions[0])) # these are status a.k.a tweet objects"
   ]
  },
  {
   "cell_type": "code",
   "execution_count": 63,
   "metadata": {},
   "outputs": [
    {
     "name": "stdout",
     "output_type": "stream",
     "text": [
      "2\n",
      "4\n",
      "4\n",
      "4\n",
      "0\n",
      "4\n",
      "2\n",
      "1\n",
      "0\n",
      "20\n",
      "2\n",
      "4\n",
      "1\n"
     ]
    }
   ],
   "source": [
    "for mention in mentions: # there is a limit to how many you can retreve at a time\n",
    "    if mention.user.screen_name in dailypython_people:\n",
    "        print(mention.user)"
   ]
  }
 ],
 "metadata": {
  "interpreter": {
   "hash": "144c5507dfd59594eab08a346759fe7c4c32e3198844b3633655b2777028ced9"
  },
  "kernelspec": {
   "display_name": "Python 3.9.7 64-bit ('venv': venv)",
   "language": "python",
   "name": "python3"
  },
  "language_info": {
   "codemirror_mode": {
    "name": "ipython",
    "version": 3
   },
   "file_extension": ".py",
   "mimetype": "text/x-python",
   "name": "python",
   "nbconvert_exporter": "python",
   "pygments_lexer": "ipython3",
   "version": "3.9.7"
  },
  "orig_nbformat": 4
 },
 "nbformat": 4,
 "nbformat_minor": 2
}
