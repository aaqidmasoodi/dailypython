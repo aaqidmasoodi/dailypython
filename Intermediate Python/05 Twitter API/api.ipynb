{
 "cells": [
  {
   "cell_type": "code",
   "execution_count": 1,
   "metadata": {},
   "outputs": [],
   "source": [
    "import tweepy\n",
    "import webbrowser\n",
    "from keys import *"
   ]
  },
  {
   "cell_type": "code",
   "execution_count": 2,
   "metadata": {},
   "outputs": [
    {
     "name": "stdout",
     "output_type": "stream",
     "text": [
      "<tweepy.api.API object at 0x7f93c4017a90>\n"
     ]
    }
   ],
   "source": [
    "callback_uri = 'oob'\n",
    "auth = tweepy.OAuthHandler(API_KEY, API_SECRET, callback_uri)\n",
    "redirect_url = auth.get_authorization_url()\n",
    "webbrowser.open(redirect_url)\n",
    "user_pin = input('Enter Pin: ')\n",
    "access = auth.get_access_token(user_pin)\n",
    "api = tweepy.API(auth)\n",
    "print(api)"
   ]
  },
  {
   "cell_type": "code",
   "execution_count": 17,
   "metadata": {},
   "outputs": [],
   "source": [
    "dailypython_people = [\n",
    "    'tawqeer00',\n",
    "    'x_willofd_x',\n",
    "    'MateenMoriarity',\n",
    "    'kaisarsofi_kXaR',\n",
    "    'Sidratkhan28',\n",
    "    'dayim_shah',\n",
    "]"
   ]
  },
  {
   "cell_type": "code",
   "execution_count": null,
   "metadata": {},
   "outputs": [],
   "source": [
    "# REST\n",
    "\n",
    "# CREATE -->> update_status() -->> POST\n",
    "# READ -->> GET\n",
    "# UPDATE -->> PUT ---->> UPDATE\n",
    "# DELETE -->> DELETE\n",
    "\n",
    "# CRUD -->> these are the basic operation you can perform on a DB"
   ]
  },
  {
   "cell_type": "markdown",
   "metadata": {},
   "source": [
    "# twitter timeline (GET)"
   ]
  },
  {
   "cell_type": "code",
   "execution_count": null,
   "metadata": {},
   "outputs": [],
   "source": [
    "# mentions_timelines() # -->> @user \n",
    "# home_timeline() # -->> \n",
    "# timeline() # -->> mytimeline"
   ]
  },
  {
   "cell_type": "code",
   "execution_count": 21,
   "metadata": {},
   "outputs": [],
   "source": [
    "mentions = api.mentions_timeline(count=40) # GET # State was no like # CURSORS"
   ]
  },
  {
   "cell_type": "code",
   "execution_count": null,
   "metadata": {},
   "outputs": [],
   "source": [
    "print(dir(mentions[0]))"
   ]
  },
  {
   "cell_type": "code",
   "execution_count": 27,
   "metadata": {},
   "outputs": [
    {
     "name": "stdout",
     "output_type": "stream",
     "text": [
      "1463512891353563138\n"
     ]
    }
   ],
   "source": [
    "last_mention_id = mentions[0].id\n",
    "print(last_mention_id)"
   ]
  },
  {
   "cell_type": "code",
   "execution_count": 31,
   "metadata": {},
   "outputs": [],
   "source": [
    "mentions = api.mentions_timeline(since_id=last_mention_id) # filtering"
   ]
  },
  {
   "cell_type": "code",
   "execution_count": null,
   "metadata": {},
   "outputs": [],
   "source": [
    "## Code First Introduction"
   ]
  },
  {
   "cell_type": "code",
   "execution_count": null,
   "metadata": {},
   "outputs": [],
   "source": [
    "# WORKER\n",
    "\n",
    "import time\n",
    "while True:\n",
    "    print('Sending Request....')\n",
    "    mentions = api.mentions_timeline(since_id=last_mention_id)\n",
    "\n",
    "    print('Request Sent....')\n",
    "    print('Scanning tweets....')\n",
    "    for tweet in mentions:\n",
    "        if tweet.user.screen_name in dailypython_people:\n",
    "            print(f'Found a tweet with {tweet.user.screen_name}....')\n",
    "            print('Replying back....')\n",
    "            api.update_status(f'@{tweet.user.screen_name} Hey Kaisar!!', '''ID OF TWEET TO WHICH YOU WANT TO REPLY TO''')\n",
    "        print('Updating last_mention_id....')\n",
    "        last_mention_id = tweet.id # i want to add this!!! to to last seen\n",
    "    # this must be outside the loop\n",
    "    # Make abssoutely sure this is outside the loop\n",
    "    \n",
    "    # RATE LIMITING\n",
    "\n",
    "    print('going to sleep for 30 seconds...')\n",
    "    time.sleep(60)"
   ]
  },
  {
   "cell_type": "code",
   "execution_count": null,
   "metadata": {},
   "outputs": [],
   "source": [
    "# you can try automate daily tweets\n",
    "# you can automate replying to tweets"
   ]
  },
  {
   "cell_type": "code",
   "execution_count": 3,
   "metadata": {},
   "outputs": [],
   "source": [
    "mentions = api.mentions_timeline()"
   ]
  },
  {
   "cell_type": "code",
   "execution_count": 5,
   "metadata": {},
   "outputs": [
    {
     "name": "stdout",
     "output_type": "stream",
     "text": [
      "1463892252837568516\n"
     ]
    }
   ],
   "source": [
    "print(mentions[0].id)"
   ]
  },
  {
   "cell_type": "code",
   "execution_count": 11,
   "metadata": {},
   "outputs": [],
   "source": [
    "new_reply = api.update_status(f'@{mentions[0].user.screen_name} Replying back to a particular tweet using python', in_reply_to_status_id=1463892252837568516)"
   ]
  },
  {
   "cell_type": "code",
   "execution_count": null,
   "metadata": {},
   "outputs": [],
   "source": [
    "new_reply.destroy()"
   ]
  },
  {
   "cell_type": "code",
   "execution_count": null,
   "metadata": {},
   "outputs": [],
   "source": [
    "### lock on to another"
   ]
  },
  {
   "cell_type": "code",
   "execution_count": 17,
   "metadata": {},
   "outputs": [],
   "source": [
    "target_user = api.get_user(screen_name='kaisarsofi_kXaR')"
   ]
  },
  {
   "cell_type": "markdown",
   "metadata": {},
   "source": [
    "## follow everyone that i am following"
   ]
  },
  {
   "cell_type": "code",
   "execution_count": 18,
   "metadata": {},
   "outputs": [
    {
     "name": "stdout",
     "output_type": "stream",
     "text": [
      "kaisarsofi_kXaR\n"
     ]
    }
   ],
   "source": [
    "print(target_user.screen_name)"
   ]
  },
  {
   "cell_type": "code",
   "execution_count": 20,
   "metadata": {},
   "outputs": [],
   "source": [
    "user_timeline = target_user.timeline()"
   ]
  },
  {
   "cell_type": "code",
   "execution_count": 21,
   "metadata": {},
   "outputs": [],
   "source": [
    "latest_tweet = user_timeline[0]"
   ]
  },
  {
   "cell_type": "code",
   "execution_count": 23,
   "metadata": {},
   "outputs": [
    {
     "name": "stdout",
     "output_type": "stream",
     "text": [
      "kaisarsofi_kXaR\n",
      "kaisarsofi_kXaR\n"
     ]
    }
   ],
   "source": [
    "print(target_user.screen_name)\n",
    "print(latest_tweet.user.screen_name)"
   ]
  },
  {
   "cell_type": "code",
   "execution_count": null,
   "metadata": {},
   "outputs": [],
   "source": [
    "api.update_status(f'@{latest_tweet.user.screen_name} Wow Cool!', in_reply_to_status_id=latest_tweet.id)"
   ]
  },
  {
   "cell_type": "code",
   "execution_count": 28,
   "metadata": {},
   "outputs": [
    {
     "name": "stdout",
     "output_type": "stream",
     "text": [
      "['__class__', '__delattr__', '__dict__', '__dir__', '__doc__', '__eq__', '__format__', '__ge__', '__getattribute__', '__getstate__', '__gt__', '__hash__', '__init__', '__init_subclass__', '__le__', '__lt__', '__module__', '__ne__', '__new__', '__reduce__', '__reduce_ex__', '__repr__', '__setattr__', '__sizeof__', '__slots__', '__str__', '__subclasshook__', '__weakref__', '_api', '_json', 'author', 'contributors', 'coordinates', 'created_at', 'destroy', 'entities', 'favorite', 'favorite_count', 'favorited', 'geo', 'id', 'id_str', 'in_reply_to_screen_name', 'in_reply_to_status_id', 'in_reply_to_status_id_str', 'in_reply_to_user_id', 'in_reply_to_user_id_str', 'is_quote_status', 'lang', 'parse', 'parse_list', 'place', 'retweet', 'retweet_count', 'retweeted', 'retweets', 'source', 'source_url', 'text', 'truncated', 'user']\n"
     ]
    }
   ],
   "source": [
    "print(dir(latest_tweet))"
   ]
  },
  {
   "cell_type": "code",
   "execution_count": 29,
   "metadata": {},
   "outputs": [
    {
     "name": "stdout",
     "output_type": "stream",
     "text": [
      "['__class__', '__delattr__', '__dict__', '__dir__', '__doc__', '__eq__', '__format__', '__ge__', '__getattribute__', '__gt__', '__hash__', '__init__', '__init_subclass__', '__le__', '__lt__', '__module__', '__ne__', '__new__', '__reduce__', '__reduce_ex__', '__repr__', '__setattr__', '__sizeof__', '__str__', '__subclasshook__', '__weakref__', 'add_list_member', 'add_list_members', 'auth', 'available_trends', 'cache', 'cached_result', 'chunked_upload', 'chunked_upload_append', 'chunked_upload_finalize', 'chunked_upload_init', 'closest_trends', 'create_block', 'create_favorite', 'create_friendship', 'create_list', 'create_media_metadata', 'create_mute', 'create_saved_search', 'delete_direct_message', 'destroy_block', 'destroy_favorite', 'destroy_friendship', 'destroy_list', 'destroy_mute', 'destroy_saved_search', 'destroy_status', 'geo_id', 'get_blocked_ids', 'get_blocks', 'get_direct_message', 'get_direct_messages', 'get_favorites', 'get_follower_ids', 'get_followers', 'get_friend_ids', 'get_friends', 'get_friendship', 'get_list', 'get_list_member', 'get_list_members', 'get_list_memberships', 'get_list_ownerships', 'get_list_subscriber', 'get_list_subscribers', 'get_list_subscriptions', 'get_lists', 'get_media_upload_status', 'get_muted_ids', 'get_mutes', 'get_oembed', 'get_place_trends', 'get_profile_banner', 'get_retweeter_ids', 'get_retweets', 'get_retweets_of_me', 'get_saved_search', 'get_saved_searches', 'get_settings', 'get_status', 'get_user', 'home_timeline', 'host', 'incoming_friendships', 'last_response', 'list_timeline', 'lookup_friendships', 'lookup_statuses', 'lookup_users', 'media_upload', 'mentions_timeline', 'no_retweets_friendships', 'outgoing_friendships', 'parser', 'proxy', 'rate_limit_status', 'remove_list_member', 'remove_list_members', 'remove_profile_banner', 'report_spam', 'request', 'retry_count', 'retry_delay', 'retry_errors', 'retweet', 'reverse_geocode', 'search_30_day', 'search_full_archive', 'search_geo', 'search_tweets', 'search_users', 'send_direct_message', 'session', 'set_settings', 'simple_upload', 'subscribe_list', 'supported_languages', 'timeout', 'unretweet', 'unsubscribe_list', 'update_friendship', 'update_list', 'update_profile', 'update_profile_banner', 'update_profile_image', 'update_status', 'update_status_with_media', 'upload_host', 'user_agent', 'user_timeline', 'verify_credentials', 'wait_on_rate_limit']\n"
     ]
    }
   ],
   "source": [
    "print(dir(api))"
   ]
  },
  {
   "cell_type": "code",
   "execution_count": null,
   "metadata": {},
   "outputs": [],
   "source": [
    "# create_favorite\n",
    "# destroy_favourite\n",
    "# "
   ]
  },
  {
   "cell_type": "code",
   "execution_count": null,
   "metadata": {},
   "outputs": [],
   "source": [
    "api.destroy_favorite(latest_tweet.id)"
   ]
  },
  {
   "cell_type": "code",
   "execution_count": null,
   "metadata": {},
   "outputs": [],
   "source": [
    "api.create_friendship(screen_name='tawqeer00')"
   ]
  },
  {
   "cell_type": "code",
   "execution_count": null,
   "metadata": {},
   "outputs": [],
   "source": [
    "api.destroy_friendship(screen_name='tawqeer00')"
   ]
  },
  {
   "cell_type": "code",
   "execution_count": null,
   "metadata": {},
   "outputs": [],
   "source": [
    "api.retweet('''ID''') # -->> PUT / POST "
   ]
  },
  {
   "cell_type": "code",
   "execution_count": null,
   "metadata": {},
   "outputs": [],
   "source": [
    "# You like all the @mentions and also follow the user who has at mentioned you if not already folllowing"
   ]
  }
 ],
 "metadata": {
  "interpreter": {
   "hash": "144c5507dfd59594eab08a346759fe7c4c32e3198844b3633655b2777028ced9"
  },
  "kernelspec": {
   "display_name": "Python 3.9.7 64-bit ('venv': venv)",
   "language": "python",
   "name": "python3"
  },
  "language_info": {
   "codemirror_mode": {
    "name": "ipython",
    "version": 3
   },
   "file_extension": ".py",
   "mimetype": "text/x-python",
   "name": "python",
   "nbconvert_exporter": "python",
   "pygments_lexer": "ipython3",
   "version": "3.9.7"
  },
  "orig_nbformat": 4
 },
 "nbformat": 4,
 "nbformat_minor": 2
}
